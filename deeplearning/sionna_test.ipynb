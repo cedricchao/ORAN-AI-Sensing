{
 "cells": [
  {
   "cell_type": "code",
   "execution_count": 1,
   "metadata": {},
   "outputs": [],
   "source": [
    "import numpy as np\n",
    "import matplotlib.pyplot as plt"
   ]
  },
  {
   "cell_type": "code",
   "execution_count": 2,
   "metadata": {},
   "outputs": [],
   "source": [
    "def pam_gray(b):\n",
    "    # pylint: disable=line-too-long\n",
    "    r\"\"\"Maps a vector of bits to a PAM constellation points with Gray labeling.\n",
    "\n",
    "    This recursive function maps a binary vector to Gray-labelled PAM\n",
    "    constellation points. It can be used to generated QAM constellations.\n",
    "    The constellation is not normalized.\n",
    "\n",
    "    Input\n",
    "    -----\n",
    "    b : [n], NumPy array\n",
    "        Tensor with with binary entries.\n",
    "\n",
    "    Output\n",
    "    ------\n",
    "    : signed int\n",
    "        The PAM constellation point taking values in\n",
    "        :math:`\\{\\pm 1,\\pm 3,\\dots,\\pm (2^n-1)\\}`.\n",
    "\n",
    "    Note\n",
    "    ----\n",
    "    This algorithm is a recursive implementation of the expressions found in\n",
    "    Section 5.1 of [3GPPTS38211]_. It is used in the 5G standard.\n",
    "    \"\"\" # pylint: disable=C0301\n",
    "\n",
    "    if len(b)>1:\n",
    "        return (1-2*b[0])*(2**len(b[1:]) - pam_gray(b[1:]))\n",
    "    return 1-2*b[0]"
   ]
  },
  {
   "cell_type": "code",
   "execution_count": 3,
   "metadata": {},
   "outputs": [],
   "source": [
    "def qam(num_bits_per_symbol, normalize=True):\n",
    "    r\"\"\"Generates a QAM constellation.\n",
    "\n",
    "    This function generates a complex-valued vector, where each element is\n",
    "    a constellation point of an M-ary QAM constellation. The bit\n",
    "    label of the ``n`` th point is given by the length-``num_bits_per_symbol``\n",
    "    binary represenation of ``n``.\n",
    "\n",
    "    Input\n",
    "    -----\n",
    "    num_bits_per_symbol : int\n",
    "        The number of bits per constellation point.\n",
    "        Must be a multiple of two, e.g., 2, 4, 6, 8, etc.\n",
    "\n",
    "    normalize: bool\n",
    "        If `True`, the constellation is normalized to have unit power.\n",
    "        Defaults to `True`.\n",
    "\n",
    "    Output\n",
    "    ------\n",
    "    : :math:`[2^{\\text{num_bits_per_symbol}}]`, np.complex64\n",
    "        The QAM constellation.\n",
    "\n",
    "    Note\n",
    "    ----\n",
    "    The bit label of the nth constellation point is given by the binary\n",
    "    representation of its position within the array and can be obtained\n",
    "    through ``np.binary_repr(n, num_bits_per_symbol)``.\n",
    "\n",
    "\n",
    "    The normalization factor of a QAM constellation is given in\n",
    "    closed-form as:\n",
    "\n",
    "    .. math::\n",
    "        \\sqrt{\\frac{1}{2^{n-2}}\\sum_{i=1}^{2^{n-1}}(2i-1)^2}\n",
    "\n",
    "    where :math:`n= \\text{num_bits_per_symbol}/2` is the number of bits\n",
    "    per dimension.\n",
    "\n",
    "    This algorithm is a recursive implementation of the expressions found in\n",
    "    Section 5.1 of [3GPPTS38211]_. It is used in the 5G standard.\n",
    "    \"\"\" # pylint: disable=C0301\n",
    "\n",
    "    try:\n",
    "        assert num_bits_per_symbol % 2 == 0 # is even\n",
    "        assert num_bits_per_symbol >0 # is larger than zero\n",
    "    except AssertionError as error:\n",
    "        raise ValueError(\"num_bits_per_symbol must be a multiple of 2\") \\\n",
    "        from error\n",
    "    assert isinstance(normalize, bool), \"normalize must be boolean\"\n",
    "\n",
    "    # Build constellation by iterating through all points\n",
    "    c = np.zeros([2**num_bits_per_symbol], dtype=np.complex64)\n",
    "    for i in range(0, 2**num_bits_per_symbol):\n",
    "        b = np.array(list(np.binary_repr(i,num_bits_per_symbol)),\n",
    "                     dtype=np.int16)\n",
    "        c[i] = pam_gray(b[0::2]) + 1j*pam_gray(b[1::2]) # PAM in each dimension\n",
    "\n",
    "    if normalize: # Normalize to unit energy\n",
    "        n = int(num_bits_per_symbol/2)\n",
    "        qam_var = 1/(2**(n-2))*np.sum(np.linspace(1,2**n-1, 2**(n-1))**2)\n",
    "        c /= np.sqrt(qam_var)\n",
    "    return c"
   ]
  },
  {
   "cell_type": "code",
   "execution_count": 4,
   "metadata": {},
   "outputs": [],
   "source": [
    "def pam(num_bits_per_symbol, normalize=True):\n",
    "    r\"\"\"Generates a PAM constellation.\n",
    "\n",
    "    This function generates a real-valued vector, where each element is\n",
    "    a constellation point of an M-ary PAM constellation. The bit\n",
    "    label of the ``n`` th point is given by the length-``num_bits_per_symbol``\n",
    "    binary represenation of ``n``.\n",
    "\n",
    "    Input\n",
    "    -----\n",
    "    num_bits_per_symbol : int\n",
    "        The number of bits per constellation point.\n",
    "        Must be positive.\n",
    "\n",
    "    normalize: bool\n",
    "        If `True`, the constellation is normalized to have unit power.\n",
    "        Defaults to `True`.\n",
    "\n",
    "    Output\n",
    "    ------\n",
    "    : :math:`[2^{\\text{num_bits_per_symbol}}]`, np.float32\n",
    "        The PAM constellation.\n",
    "\n",
    "    Note\n",
    "    ----\n",
    "    The bit label of the nth constellation point is given by the binary\n",
    "    representation of its position within the array and can be obtained\n",
    "    through ``np.binary_repr(n, num_bits_per_symbol)``.\n",
    "\n",
    "\n",
    "    The normalization factor of a PAM constellation is given in\n",
    "    closed-form as:\n",
    "\n",
    "    .. math::\n",
    "        \\sqrt{\\frac{1}{2^{n-1}}\\sum_{i=1}^{2^{n-1}}(2i-1)^2}\n",
    "\n",
    "    where :math:`n= \\text{num_bits_per_symbol}` is the number of bits\n",
    "    per symbol.\n",
    "\n",
    "    This algorithm is a recursive implementation of the expressions found in\n",
    "    Section 5.1 of [3GPPTS38211]_. It is used in the 5G standard.\n",
    "    \"\"\" # pylint: disable=C0301\n",
    "\n",
    "    try:\n",
    "        assert num_bits_per_symbol >0 # is larger than zero\n",
    "    except AssertionError as error:\n",
    "        raise ValueError(\"num_bits_per_symbol must be positive\") \\\n",
    "        from error\n",
    "    assert isinstance(normalize, bool), \"normalize must be boolean\"\n",
    "\n",
    "    # Build constellation by iterating through all points\n",
    "    c = np.zeros([2**num_bits_per_symbol], dtype=np.float32)\n",
    "    for i in range(0, 2**num_bits_per_symbol):\n",
    "        b = np.array(list(np.binary_repr(i,num_bits_per_symbol)),\n",
    "                     dtype=np.int16)\n",
    "        c[i] = pam_gray(b)\n",
    "\n",
    "    if normalize: # Normalize to unit energy\n",
    "        n = int(num_bits_per_symbol)\n",
    "        pam_var = 1/(2**(n-1))*np.sum(np.linspace(1,2**n-1, 2**(n-1))**2)\n",
    "        c /= np.sqrt(pam_var)\n",
    "    return c"
   ]
  },
  {
   "cell_type": "code",
   "execution_count": 5,
   "metadata": {},
   "outputs": [],
   "source": [
    "#ref from class Constellation\n",
    "def CreateConstellation(constellation_type, num_bits_per_symbol,normalize=True):\n",
    "    r\"\"\"\n",
    "    Constellation(constellation_type, num_bits_per_symbol, initial_value=None, normalize=True, center=False, trainable=False, dtype=tf.complex64, **kwargs)\n",
    "\n",
    "    Constellation that can be used by a (de)mapper.\n",
    "\n",
    "    This class defines a constellation, i.e., a complex-valued vector of\n",
    "    constellation points. A constellation can be trainable. The binary\n",
    "    representation of the index of an element of this vector corresponds\n",
    "    to the bit label of the constellation point. This implicit bit\n",
    "    labeling is used by the ``Mapper`` and ``Demapper`` classes.\n",
    "\n",
    "    Parameters\n",
    "    ----------\n",
    "    constellation_type : One of [\"qam\", \"pam\", \"custom\"], str\n",
    "        For \"custom\", the constellation points are randomly initialized\n",
    "        if no ``initial_value`` is provided.\n",
    "\n",
    "    num_bits_per_symbol : int\n",
    "        The number of bits per constellation symbol, e.g., 4 for QAM16.\n",
    "\n",
    "    initial_value : :math:`[2^\\text{num_bits_per_symbol}]`, NumPy array or Tensor\n",
    "        Initial values of the constellation points. If ``normalize`` or\n",
    "        ``center`` are `True`, the initial constellation might be changed.\n",
    "\n",
    "    normalize : bool\n",
    "        If `True`, the constellation is normalized to have unit power.\n",
    "        Defaults to `True`.\n",
    "\n",
    "    center : bool\n",
    "        If `True`, the constellation is ensured to have zero mean.\n",
    "        Defaults to `False`.\n",
    "\n",
    "    trainable : bool\n",
    "        If `True`, the constellation points are trainable variables.\n",
    "        Defaults to `False`.\n",
    "\n",
    "    dtype : [tf.complex64, tf.complex128], tf.DType\n",
    "        The dtype of the constellation.\n",
    "\n",
    "    Output\n",
    "    ------\n",
    "    : :math:`[2^\\text{num_bits_per_symbol}]`, ``dtype``\n",
    "        The constellation.\n",
    "\n",
    "    Note\n",
    "    ----\n",
    "    One can create a trainable PAM/QAM constellation. This is\n",
    "    equivalent to creating a custom trainable constellation which is\n",
    "    initialized with PAM/QAM constellation points.\n",
    "    \"\"\"\n",
    "    num_bits_per_symbol = int(num_bits_per_symbol)\n",
    "    if constellation_type==\"qam\":\n",
    "        assert num_bits_per_symbol%2 == 0 and num_bits_per_symbol>0,\\\n",
    "            \"num_bits_per_symbol must be a multiple of 2\"\n",
    "        num_bits_per_symbol = int(num_bits_per_symbol)\n",
    "\n",
    "        points = qam(num_bits_per_symbol, normalize=normalize)\n",
    "    if constellation_type==\"pam\":\n",
    "        assert num_bits_per_symbol>0,\\\n",
    "            \"num_bits_per_symbol must be integer\"\n",
    "        num_bits_per_symbol = int(num_bits_per_symbol)\n",
    "\n",
    "        points = pam(num_bits_per_symbol, normalize=normalize)\n",
    "    return points"
   ]
  },
  {
   "cell_type": "code",
   "execution_count": 8,
   "metadata": {},
   "outputs": [],
   "source": [
    "def show(points, num_bits_per_symbol, labels=True, figsize=(7,7)):\n",
    "    \"\"\"Generate a scatter-plot of the constellation.\n",
    "\n",
    "    Input\n",
    "    -----\n",
    "    labels : bool\n",
    "        If `True`, the bit labels will be drawn next to each constellation\n",
    "        point. Defaults to `True`.\n",
    "\n",
    "    figsize : Two-element Tuple, float\n",
    "        Width and height in inches. Defaults to `(7,7)`.\n",
    "\n",
    "    Output\n",
    "    ------\n",
    "    : matplotlib.figure.Figure\n",
    "        A handle to a matplot figure object.\n",
    "    \"\"\"\n",
    "    maxval = np.max(np.abs(points))*1.05\n",
    "    fig = plt.figure(figsize=figsize)\n",
    "    ax = fig.add_subplot(111)\n",
    "    plt.xlim(-maxval, maxval)\n",
    "    plt.ylim(-maxval, maxval)\n",
    "    plt.scatter(np.real(points), np.imag(points))\n",
    "    ax.set_aspect(\"equal\", adjustable=\"box\")\n",
    "    plt.xlabel(\"Real Part\")\n",
    "    plt.ylabel(\"Imaginary Part\")\n",
    "    plt.grid(True, which=\"both\", axis=\"both\")\n",
    "    plt.title(\"Constellation Plot\")\n",
    "    if labels is True:\n",
    "        for j, p in enumerate(points):\n",
    "            plt.annotate(\n",
    "                np.binary_repr(j, num_bits_per_symbol),\n",
    "                (np.real(p), np.imag(p))\n",
    "            )\n",
    "    return fig"
   ]
  },
  {
   "cell_type": "code",
   "execution_count": 11,
   "metadata": {},
   "outputs": [
    {
     "data": {
      "text/plain": [
       "(4,)"
      ]
     },
     "execution_count": 11,
     "metadata": {},
     "output_type": "execute_result"
    }
   ],
   "source": [
    "NUM_BITS_PER_SYMBOL = 2 # QPSK\n",
    "#constellation = sn.mapping.Constellation(\"qam\", NUM_BITS_PER_SYMBOL)\n",
    "points = CreateConstellation(\"qam\", NUM_BITS_PER_SYMBOL)\n",
    "points.shape\n"
   ]
  },
  {
   "cell_type": "code",
   "execution_count": 12,
   "metadata": {},
   "outputs": [
    {
     "data": {
      "text/plain": [
       "array([ 0.70710677+0.70710677j,  0.70710677-0.70710677j,\n",
       "       -0.70710677+0.70710677j, -0.70710677-0.70710677j], dtype=complex64)"
      ]
     },
     "execution_count": 12,
     "metadata": {},
     "output_type": "execute_result"
    }
   ],
   "source": [
    "points"
   ]
  },
  {
   "cell_type": "code",
   "execution_count": 13,
   "metadata": {},
   "outputs": [
    {
     "data": {
      "image/png": "[encoded data removed]",
      "text/plain": [
       "<Figure size 700x700 with 1 Axes>"
      ]
     },
     "execution_count": 13,
     "metadata": {},
     "output_type": "execute_result"
    },
    {
     "data": {
      "image/png": "[encoded data removed]",
      "text/plain": [
       "<Figure size 700x700 with 1 Axes>"
      ]
     },
     "metadata": {},
     "output_type": "display_data"
    }
   ],
   "source": [
    "show(points, NUM_BITS_PER_SYMBOL)"
   ]
  },
  {
   "cell_type": "markdown",
   "metadata": {},
   "source": [
    "We then need to setup a mapper to map bits into constellation points. The mapper takes as parameter the constellation.\n",
    "\n",
    "We also need to setup a corresponding demapper to compute log-likelihood ratios (LLRs) from received noisy samples."
   ]
  },
  {
   "cell_type": "code",
   "execution_count": 14,
   "metadata": {},
   "outputs": [],
   "source": [
    "def BinarySource(shape):\n",
    "    \"\"\"BinarySource(dtype=tf.float32, seed=None, **kwargs)\n",
    "\n",
    "    Layer generating random binary tensors.\n",
    "\n",
    "    Parameters\n",
    "    ----------\n",
    "    dtype : tf.DType\n",
    "        Defines the output datatype of the layer.\n",
    "        Defaults to `tf.float32`.\n",
    "\n",
    "    seed : int or None\n",
    "        Set the seed for the random generator used to generate the bits.\n",
    "        Set to `None` for random initialization of the RNG.\n",
    "\n",
    "    Input\n",
    "    -----\n",
    "    shape : 1D tensor/array/list, int\n",
    "        The desired shape of the output tensor.\n",
    "\n",
    "    Output\n",
    "    ------\n",
    "    : ``shape``, ``dtype``\n",
    "        Tensor filled with random binary values.\n",
    "    \"\"\"\n",
    "    #tf.cast(tf.random.uniform(inputs, 0, 2, tf.int32), dtype=super().dtype)\n",
    "    return np.random.randint(2, size=shape)\n",
    "    #https://numpy.org/doc/stable/reference/random/generated/numpy.random.randint.html#numpy.random.randint"
   ]
  },
  {
   "cell_type": "code",
   "execution_count": 15,
   "metadata": {},
   "outputs": [],
   "source": [
    "BATCH_SIZE = 64 # How many examples are processed in parallel\n",
    "shape = ([BATCH_SIZE,\n",
    "                      1024])# Blocklength\n",
    "\n",
    "bits = BinarySource(shape)"
   ]
  },
  {
   "cell_type": "code",
   "execution_count": 35,
   "metadata": {},
   "outputs": [
    {
     "name": "stdout",
     "output_type": "stream",
     "text": [
      "Shape of bits:  (64, 1024)\n"
     ]
    }
   ],
   "source": [
    "print(\"Shape of bits: \", bits.shape)"
   ]
  },
  {
   "cell_type": "code",
   "execution_count": 17,
   "metadata": {},
   "outputs": [
    {
     "data": {
      "text/plain": [
       "array([[1, 0, 0, ..., 1, 1, 0],\n",
       "       [1, 0, 1, ..., 0, 0, 1],\n",
       "       [1, 0, 0, ..., 0, 1, 1],\n",
       "       ...,\n",
       "       [0, 0, 0, ..., 1, 0, 1],\n",
       "       [1, 1, 0, ..., 1, 1, 0],\n",
       "       [0, 0, 0, ..., 1, 1, 1]])"
      ]
     },
     "execution_count": 17,
     "metadata": {},
     "output_type": "execute_result"
    }
   ],
   "source": [
    "bits"
   ]
  },
  {
   "cell_type": "code",
   "execution_count": 76,
   "metadata": {},
   "outputs": [],
   "source": [
    "class Mapper:\n",
    "    def __init__(self,\n",
    "                 constellation_type=None,\n",
    "                 num_bits_per_symbol=None,\n",
    "                 constellation=None,\n",
    "                 return_indices=False,\n",
    "                 #dtype=tf.complex64,\n",
    "                 #**kwargs\n",
    "                ):\n",
    "          self.num_bits_per_symbol = num_bits_per_symbol\n",
    "          self.binary_base = 2**np.arange(num_bits_per_symbol-1, -1, -1, dtype=int) #array([2, 1], dtype=int32)\n",
    "          self.points = CreateConstellation(constellation_type, num_bits_per_symbol) #(4,)\n",
    "    \n",
    "    def create_symbol(self, inputs):\n",
    "        #inputs: (64, 1024) #batch_size, bits len\n",
    "        new_shape = [-1] + [int(inputs.shape[-1] / self.num_bits_per_symbol), self.num_bits_per_symbol] #[-1, 512, 2]\n",
    "        reinputs_reshaped = np.reshape(inputs, new_shape) #(64, 512, 2)\n",
    "        # Convert the last dimension to an integer\n",
    "        int_rep = reinputs_reshaped * self.binary_base #(64, 512, 2)\n",
    "        int_rep = np.sum(int_rep, axis=-1) #(64, 512)\n",
    "        print(int_rep.shape)\n",
    "        # Map integers to constellation symbols\n",
    "        #x = tf.gather(self.points, int_rep, axis=0)\n",
    "        symbs_list = [self.points[val_int] for val_int in int_rep]\n",
    "        symbols=np.array(symbs_list) #(64, 512) complex64\n",
    "        print(symbols.dtype)\n",
    "        return symbols\n"
   ]
  },
  {
   "cell_type": "code",
   "execution_count": 77,
   "metadata": {},
   "outputs": [],
   "source": [
    "mapper=Mapper(constellation_type=\"qam\", num_bits_per_symbol=2)"
   ]
  },
  {
   "cell_type": "code",
   "execution_count": 78,
   "metadata": {},
   "outputs": [
    {
     "name": "stdout",
     "output_type": "stream",
     "text": [
      "(64, 512)\n",
      "complex64\n"
     ]
    }
   ],
   "source": [
    "tmp=mapper.create_symbol(bits)"
   ]
  },
  {
   "cell_type": "code",
   "execution_count": 79,
   "metadata": {},
   "outputs": [
    {
     "data": {
      "text/plain": [
       "(64, 512)"
      ]
     },
     "execution_count": 79,
     "metadata": {},
     "output_type": "execute_result"
    }
   ],
   "source": [
    "tmp.shape"
   ]
  },
  {
   "cell_type": "code",
   "execution_count": 75,
   "metadata": {},
   "outputs": [
    {
     "data": {
      "text/plain": [
       "dtype('complex64')"
      ]
     },
     "execution_count": 75,
     "metadata": {},
     "output_type": "execute_result"
    }
   ],
   "source": [
    "tmp.dtype"
   ]
  },
  {
   "cell_type": "code",
   "execution_count": 94,
   "metadata": {},
   "outputs": [],
   "source": [
    "def complex_normal(shape, var=1.0):\n",
    "    r\"\"\"Generates a tensor of complex normal random variables.\n",
    "\n",
    "    Input\n",
    "    -----\n",
    "    shape : tf.shape, or list\n",
    "        The desired shape.\n",
    "\n",
    "    var : float\n",
    "        The total variance., i.e., each complex dimension has\n",
    "        variance ``var/2``.\n",
    "\n",
    "    dtype: tf.complex\n",
    "        The desired dtype. Defaults to `tf.complex64`.\n",
    "\n",
    "    Output\n",
    "    ------\n",
    "    : ``shape``, ``dtype``\n",
    "        Tensor of complex normal random variables.\n",
    "    \"\"\"\n",
    "    # Half the variance for each dimension\n",
    "    #var_dim = np.complex64(var/2)\n",
    "    #var_dim = tf.cast(var, dtype.real_dtype)/tf.cast(2, dtype.real_dtype)\n",
    "    #stddev = np.sqrt(var_dim)\n",
    "\n",
    "    # Generate complex Gaussian noise with the right variance\n",
    "    stddev = np.sqrt(var/2)\n",
    "    xr = np.random.normal(loc=0.0, scale=stddev, size=shape)\n",
    "    xi = np.random.normal(loc=0.0, scale=stddev, size=shape)\n",
    "    x = xr + 1j*xi\n",
    "    # xr = tf.random.normal(shape, stddev=stddev, dtype=dtype.real_dtype)\n",
    "    # xi = tf.random.normal(shape, stddev=stddev, dtype=dtype.real_dtype)\n",
    "    # x = tf.complex(xr, xi)\n",
    "\n",
    "    return x"
   ]
  },
  {
   "cell_type": "code",
   "execution_count": 99,
   "metadata": {},
   "outputs": [],
   "source": [
    "noise=complex_normal(tmp.shape, 1.0)"
   ]
  },
  {
   "cell_type": "code",
   "execution_count": 100,
   "metadata": {},
   "outputs": [
    {
     "data": {
      "text/plain": [
       "(64, 512)"
      ]
     },
     "execution_count": 100,
     "metadata": {},
     "output_type": "execute_result"
    }
   ],
   "source": [
    "noise.shape"
   ]
  },
  {
   "cell_type": "code",
   "execution_count": 101,
   "metadata": {},
   "outputs": [
    {
     "data": {
      "text/plain": [
       "dtype('complex128')"
      ]
     },
     "execution_count": 101,
     "metadata": {},
     "output_type": "execute_result"
    }
   ],
   "source": [
    "noise.dtype"
   ]
  },
  {
   "cell_type": "code",
   "execution_count": 102,
   "metadata": {},
   "outputs": [
    {
     "data": {
      "text/plain": [
       "(-0.06097630036949083+0.12455365076882209j)"
      ]
     },
     "execution_count": 102,
     "metadata": {},
     "output_type": "execute_result"
    }
   ],
   "source": [
    "noise[0,1]"
   ]
  },
  {
   "cell_type": "code",
   "execution_count": 103,
   "metadata": {},
   "outputs": [],
   "source": [
    "y=tmp+noise"
   ]
  },
  {
   "cell_type": "code",
   "execution_count": 104,
   "metadata": {},
   "outputs": [
    {
     "data": {
      "text/plain": [
       "(64, 512)"
      ]
     },
     "execution_count": 104,
     "metadata": {},
     "output_type": "execute_result"
    }
   ],
   "source": [
    "y.shape"
   ]
  },
  {
   "cell_type": "markdown",
   "metadata": {},
   "source": [
    "compute the noise power spectral density ratio $N_0$ from the energy per bit to noise power spectral density ratio $E_b/N_0$ in dB and a variety of parameters such as the coderate and the nunber of bits per symbol."
   ]
  },
  {
   "cell_type": "markdown",
   "metadata": {},
   "source": [
    "The function takes into account the number of coded bits per constellation symbol, the coderate, as well as possible additional overheads related to OFDM transmissions, such as the cyclic prefix and pilots.\n",
    "\n",
    "The value of `No` is computed according to the following expression\n",
    "$$N_o = \\left(\\frac{E_b}{N_o} \\frac{r M}{E_s}\\right)^{-1} $$\n",
    "\n",
    "where $2^M$ is the constellation size, i.e., $M$ is the average number of coded bits per constellation symbol, $E_s=1$ is the average energy per constellation per symbol, $r\\in(0,1]$ is the coderate, $E_b$ is the energy per information bit, and $N_o$ is the noise power spectral density.\n",
    "    \n",
    "For OFDM transmissions, $E_s$ is scaled according to the ratio between the total number of resource elements in a resource grid with non-zero energy and the number of resource elements used for data transmission. Also the additionally transmitted energy during the cyclic prefix is taken into account, as well as the number of transmitted streams per transmitter."
   ]
  },
  {
   "cell_type": "code",
   "execution_count": 111,
   "metadata": {},
   "outputs": [],
   "source": [
    "def ebnodb2no(ebno_db, num_bits_per_symbol, coderate):\n",
    "    r\"\"\"Compute the noise variance `No` for a given `Eb/No` in dB.\n",
    "    Input\n",
    "    -----\n",
    "    ebno_db : float\n",
    "        The `Eb/No` value in dB.\n",
    "\n",
    "    num_bits_per_symbol : int\n",
    "        The number of bits per symbol.\n",
    "\n",
    "    coderate : float\n",
    "        The coderate used.\n",
    "\n",
    "    resource_grid : ResourceGrid\n",
    "        An (optional) instance of :class:`~sionna.ofdm.ResourceGrid`\n",
    "        for OFDM transmissions.\n",
    "\n",
    "    Output\n",
    "    ------\n",
    "    : float\n",
    "        The value of :math:`N_o` in linear scale.\n",
    "    \"\"\"\n",
    "    #ebno = tf.math.pow(tf.cast(10., dtype), ebno_db/10.)\n",
    "    ebno = np.power(10, ebno_db/10.0)\n",
    "    energy_per_symbol = 1\n",
    "    tmp= (ebno * coderate * float(num_bits_per_symbol)) / float(energy_per_symbol)\n",
    "    n0 = 1/tmp\n",
    "    return n0\n"
   ]
  },
  {
   "cell_type": "code",
   "execution_count": 112,
   "metadata": {},
   "outputs": [],
   "source": [
    "n0=ebnodb2no(ebno_db=10.0, num_bits_per_symbol=NUM_BITS_PER_SYMBOL, coderate=1.0)"
   ]
  },
  {
   "cell_type": "code",
   "execution_count": 113,
   "metadata": {},
   "outputs": [
    {
     "data": {
      "text/plain": [
       "0.05"
      ]
     },
     "execution_count": 113,
     "metadata": {},
     "output_type": "execute_result"
    }
   ],
   "source": [
    "n0"
   ]
  },
  {
   "cell_type": "code",
   "execution_count": 147,
   "metadata": {},
   "outputs": [
    {
     "data": {
      "text/plain": [
       "2.0"
      ]
     },
     "execution_count": 147,
     "metadata": {},
     "output_type": "execute_result"
    }
   ],
   "source": [
    "num_bits_per_symbol = 2\n",
    "#num_bits_per_symbol.astype(np.float32)\n",
    "float(num_bits_per_symbol)"
   ]
  },
  {
   "cell_type": "code",
   "execution_count": 148,
   "metadata": {},
   "outputs": [
    {
     "data": {
      "text/plain": [
       "16"
      ]
     },
     "execution_count": 148,
     "metadata": {},
     "output_type": "execute_result"
    }
   ],
   "source": [
    "np.power(4,2)"
   ]
  },
  {
   "cell_type": "markdown",
   "metadata": {},
   "source": [
    "class SymbolLogits2LLRs\n",
    "SymbolLogits2LLRs(method, num_bits_per_symbol, hard_out=False, with_prior=False, dtype=tf.float32, **kwargs)\n",
    "\n",
    "    Computes log-likelihood ratios (LLRs) or hard-decisions on bits\n",
    "    from a tensor of logits (i.e., unnormalized log-probabilities) on constellation points.\n",
    "    If the flag ``with_prior`` is set, prior knowledge on the bits is assumed to be available."
   ]
  },
  {
   "cell_type": "markdown",
   "metadata": {},
   "source": [
    "With the \"app\" method, the LLR for the :math:`i\\text{th}` bit\n",
    "    is computed according to\n",
    "$$\n",
    "        LLR(i) = \\ln\\left(\\frac{\\Pr\\left(b_i=1\\lvert \\mathbf{z},\\mathbf{p}\\right)}{\\Pr\\left(b_i=0\\lvert \\mathbf{z},\\mathbf{p}\\right)}\\right) =\\ln\\left(\\frac{\n",
    "                \\sum_{c\\in\\mathcal{C}_{i,1}} \\Pr\\left(c\\lvert\\mathbf{p}\\right)\n",
    "                e^{z_c}\n",
    "                }{\n",
    "                \\sum_{c\\in\\mathcal{C}_{i,0}} \\Pr\\left(c\\lvert\\mathbf{p}\\right)\n",
    "                e^{z_c}\n",
    "                }\\right)$$\n",
    "\n",
    "where $\\mathcal{C}_{i,1}$ and $\\mathcal{C}_{i,0}$ are the\n",
    "sets of $2^K$ constellation points for which the $i\\text{th}$ bit is\n",
    "equal to 1 and 0, respectively. $\\mathbf{z} = \\left[z_{c_0},\\dots,z_{c_{2^K-1}}\\right]$ is the vector of logits on the constellation points, $\\mathbf{p} = \\left[p_0,\\dots,p_{K-1}\\right]$\n",
    "is the vector of LLRs that serves as prior knowledge on the $K$ bits that are mapped to\n",
    "a constellation point and is set to $\\mathbf{0}$ if no prior knowledge is assumed to be available,\n",
    "and $\\Pr(c\\lvert\\mathbf{p})$ is the prior probability on the constellation symbol $c$:"
   ]
  },
  {
   "cell_type": "code",
   "execution_count": 149,
   "metadata": {},
   "outputs": [
    {
     "data": {
      "text/plain": [
       "2"
      ]
     },
     "execution_count": 149,
     "metadata": {},
     "output_type": "execute_result"
    }
   ],
   "source": [
    "num_bits_per_symbol"
   ]
  },
  {
   "cell_type": "code",
   "execution_count": 150,
   "metadata": {},
   "outputs": [],
   "source": [
    "num_points = int(2**num_bits_per_symbol)"
   ]
  },
  {
   "cell_type": "code",
   "execution_count": 151,
   "metadata": {},
   "outputs": [
    {
     "data": {
      "text/plain": [
       "4"
      ]
     },
     "execution_count": 151,
     "metadata": {},
     "output_type": "execute_result"
    }
   ],
   "source": [
    "num_points"
   ]
  },
  {
   "cell_type": "code",
   "execution_count": 152,
   "metadata": {},
   "outputs": [],
   "source": [
    "# Array composed of binary representations of all symbols indices\n",
    "a = np.zeros([num_points, num_bits_per_symbol])\n",
    "for i in range(0, num_points):\n",
    "    a[i,:] = np.array(list(np.binary_repr(i, num_bits_per_symbol)),\n",
    "                        dtype=np.int16)\n",
    "\n",
    "# Compute symbol indices for which the bits are 0 or 1\n",
    "c0 = np.zeros([int(num_points/2), num_bits_per_symbol]) #4/2, 2\n",
    "c1 = np.zeros([int(num_points/2), num_bits_per_symbol])\n",
    "for i in range(num_bits_per_symbol-1,-1,-1):\n",
    "    c0[:,i] = np.where(a[:,i]==0)[0]\n",
    "    c1[:,i] = np.where(a[:,i]==1)[0]"
   ]
  },
  {
   "cell_type": "code",
   "execution_count": 158,
   "metadata": {},
   "outputs": [
    {
     "data": {
      "text/plain": [
       "array([[0., 0.],\n",
       "       [0., 1.],\n",
       "       [1., 0.],\n",
       "       [1., 1.]])"
      ]
     },
     "execution_count": 158,
     "metadata": {},
     "output_type": "execute_result"
    }
   ],
   "source": [
    "a"
   ]
  },
  {
   "cell_type": "code",
   "execution_count": 154,
   "metadata": {},
   "outputs": [
    {
     "data": {
      "text/plain": [
       "(2, 2)"
      ]
     },
     "execution_count": 154,
     "metadata": {},
     "output_type": "execute_result"
    }
   ],
   "source": [
    "c0.shape"
   ]
  },
  {
   "cell_type": "code",
   "execution_count": 156,
   "metadata": {},
   "outputs": [
    {
     "data": {
      "text/plain": [
       "array([[0., 0.],\n",
       "       [1., 2.]])"
      ]
     },
     "execution_count": 156,
     "metadata": {},
     "output_type": "execute_result"
    }
   ],
   "source": [
    "c0"
   ]
  },
  {
   "cell_type": "code",
   "execution_count": 157,
   "metadata": {},
   "outputs": [
    {
     "data": {
      "text/plain": [
       "array([[2., 1.],\n",
       "       [3., 3.]])"
      ]
     },
     "execution_count": 157,
     "metadata": {},
     "output_type": "execute_result"
    }
   ],
   "source": [
    "c1"
   ]
  },
  {
   "cell_type": "markdown",
   "metadata": {},
   "source": [
    "$$\n",
    "        LLR(i) = \\ln\\left(\\frac{\\Pr\\left(b_i=1\\lvert y,\\mathbf{p}\\right)}{\\Pr\\left(b_i=0\\lvert y,\\mathbf{p}\\right)}\\right) =\\ln\\left(\\frac{\n",
    "                \\sum_{c\\in\\mathcal{C}_{i,1}} \\Pr\\left(c\\lvert\\mathbf{p}\\right)\n",
    "                \\exp\\left(-\\frac{1}{N_o}\\left|y-c\\right|^2\\right)\n",
    "                }{\n",
    "                \\sum_{c\\in\\mathcal{C}_{i,0}} \\Pr\\left(c\\lvert\\mathbf{p}\\right)\n",
    "                \\exp\\left(-\\frac{1}{N_o}\\left|y-c\\right|^2\\right)\n",
    "                }\\right)\n",
    "$$\n",
    "where $\\mathcal{C}_{i,1}$ and $\\mathcal{C}_{i,0}$ are the\n",
    "    sets of constellation points for which the $i\\text{th}$ bit is\n",
    "    equal to 1 and 0, respectively. $\\mathbf{p} = \\left[p_0,\\dots,p_{K-1}\\right]$\n",
    "    is the vector of LLRs that serves as prior knowledge on the $K$ bits that are mapped to\n",
    "    a constellation point and is set to $\\mathbf{0}$ if no prior knowledge is assumed to be available,\n",
    "    and $\\Pr(c\\lvert\\mathbf{p})$ is the prior probability on the constellation symbol $c$:"
   ]
  },
  {
   "cell_type": "markdown",
   "metadata": {},
   "source": [
    "$$\n",
    "        \\Pr\\left(c\\lvert\\mathbf{p}\\right) = \\prod_{k=0}^{K-1} \\text{sigmoid}\\left(p_k \\ell(c)_k\\right) $$\n",
    "\n",
    "where $\\ell(c)_k$ is the $k^{th}$ bit label of $c$, where 0 is replaced by -1.\n",
    "The definition of the LLR has been chosen such that it is equivalent with that of logits. This is different from many textbooks in communications, where the LLR is defined as $LLR(i) = \\ln\\left(\\frac{\\Pr\\left(b_i=0\\lvert y\\right)}{\\Pr\\left(b_i=1\\lvert y\\right)}\\right)$."
   ]
  },
  {
   "cell_type": "markdown",
   "metadata": {},
   "source": [
    "With the \"maxlog\" demapping method, LLRs for the $i\\text{th}$ bit are approximated like\n",
    "$$\n",
    "        \\begin{align}\n",
    "            LLR(i) &\\approx\\ln\\left(\\frac{\n",
    "                \\max_{c\\in\\mathcal{C}_{i,1}} \\Pr\\left(c\\lvert\\mathbf{p}\\right)\n",
    "                    \\exp\\left(-\\frac{1}{N_o}\\left|y-c\\right|^2\\right)\n",
    "                }{\n",
    "                \\max_{c\\in\\mathcal{C}_{i,0}} \\Pr\\left(c\\lvert\\mathbf{p}\\right)\n",
    "                    \\exp\\left(-\\frac{1}{N_o}\\left|y-c\\right|^2\\right)\n",
    "                }\\right)\\\\\n",
    "                &= \\max_{c\\in\\mathcal{C}_{i,0}}\n",
    "                    \\left(\\ln\\left(\\Pr\\left(c\\lvert\\mathbf{p}\\right)\\right)-\\frac{|y-c|^2}{N_o}\\right) -\n",
    "                 \\max_{c\\in\\mathcal{C}_{i,1}}\\left( \\ln\\left(\\Pr\\left(c\\lvert\\mathbf{p}\\right)\\right) - \\frac{|y-c|^2}{N_o}\\right)\n",
    "                .\n",
    "        \\end{align} $$"
   ]
  },
  {
   "cell_type": "code",
   "execution_count": null,
   "metadata": {},
   "outputs": [],
   "source": [
    "class Demapper:\n",
    "    def __init__(self,\n",
    "                 constellation_type=None,\n",
    "                 num_bits_per_symbol=None,\n",
    "                 hard_out=False,\n",
    "                 with_prior=False,\n",
    "                 #dtype=tf.complex64,\n",
    "                 #**kwargs\n",
    "                ):\n",
    "        self.points = CreateConstellation(constellation_type, num_bits_per_symbol) #(4,)\n",
    "        self.num_bits_per_symbol = num_bits_per_symbol\n",
    "        self.with_prior = with_prior\n",
    "        self.hard_out = hard_out\n",
    "    \n",
    "    def demap(self, inputs):\n",
    "        if self.with_prior:\n",
    "            y, prior, no = inputs\n",
    "        else:\n",
    "            y, no = inputs\n",
    "        \n",
    "        # Reshape constellation points to [1,...1,num_points]\n",
    "        #points_shape = [1]*y.shape.rank + self.points.shape\n",
    "        points_shape = [1]*len(y.shape) +list(points.shape) #[1,1]+[4] = [1, 1, 4]\n",
    "        #points = tf.reshape(self.constellation.points, points_shape)\n",
    "        points_reshape =np.reshape(points, points_shape)\n",
    "\n",
    "        # Compute squared distances from y to all points\n",
    "        # shape [...,n,num_points]\n",
    "        #squared_dist = tf.pow(tf.abs(tf.expand_dims(y, axis=-1) - points_reshape), 2)\n",
    "        ynew=np.expand_dims(y, axis=-1) #(64, 512, 1)\n",
    "        squared_dist=((ynew-points_reshape)**2) #(64, 512, 4)\n",
    "        \n",
    "        # Compute exponents\n",
    "        exponents = -squared_dist/no\n",
    "\n",
    "        if self.with_prior:\n",
    "            llr = self._logits2llrs([exponents, prior])\n",
    "        else:\n",
    "            llr = self._logits2llrs(exponents)"
   ]
  },
  {
   "cell_type": "code",
   "execution_count": 132,
   "metadata": {},
   "outputs": [
    {
     "data": {
      "text/plain": [
       "(64, 512)"
      ]
     },
     "execution_count": 132,
     "metadata": {},
     "output_type": "execute_result"
    }
   ],
   "source": [
    "y.shape"
   ]
  },
  {
   "cell_type": "code",
   "execution_count": 134,
   "metadata": {},
   "outputs": [
    {
     "data": {
      "text/plain": [
       "(64, 512, 1)"
      ]
     },
     "execution_count": 134,
     "metadata": {},
     "output_type": "execute_result"
    }
   ],
   "source": [
    "ynew=np.expand_dims(y, axis=-1)\n",
    "ynew.shape"
   ]
  },
  {
   "cell_type": "code",
   "execution_count": 131,
   "metadata": {},
   "outputs": [
    {
     "data": {
      "text/plain": [
       "[1, 1]"
      ]
     },
     "execution_count": 131,
     "metadata": {},
     "output_type": "execute_result"
    }
   ],
   "source": [
    "[1]*len(y.shape)"
   ]
  },
  {
   "cell_type": "code",
   "execution_count": 119,
   "metadata": {},
   "outputs": [
    {
     "data": {
      "text/plain": [
       "(64, 512)"
      ]
     },
     "execution_count": 119,
     "metadata": {},
     "output_type": "execute_result"
    }
   ],
   "source": [
    "y.shape"
   ]
  },
  {
   "cell_type": "code",
   "execution_count": 126,
   "metadata": {},
   "outputs": [],
   "source": [
    "points_shape=[1]*len(y.shape) +list(points.shape)"
   ]
  },
  {
   "cell_type": "code",
   "execution_count": 130,
   "metadata": {},
   "outputs": [
    {
     "data": {
      "text/plain": [
       "[1, 1, 4]"
      ]
     },
     "execution_count": 130,
     "metadata": {},
     "output_type": "execute_result"
    }
   ],
   "source": [
    "points_shape"
   ]
  },
  {
   "cell_type": "code",
   "execution_count": 127,
   "metadata": {},
   "outputs": [],
   "source": [
    "points_reshape =np.reshape(points, points_shape)"
   ]
  },
  {
   "cell_type": "code",
   "execution_count": 129,
   "metadata": {},
   "outputs": [
    {
     "data": {
      "text/plain": [
       "(1, 1, 4)"
      ]
     },
     "execution_count": 129,
     "metadata": {},
     "output_type": "execute_result"
    }
   ],
   "source": [
    "points_reshape.shape"
   ]
  },
  {
   "cell_type": "code",
   "execution_count": 138,
   "metadata": {},
   "outputs": [
    {
     "data": {
      "text/plain": [
       "(64, 512, 1)"
      ]
     },
     "execution_count": 138,
     "metadata": {},
     "output_type": "execute_result"
    }
   ],
   "source": [
    "ynew.shape"
   ]
  },
  {
   "cell_type": "code",
   "execution_count": 140,
   "metadata": {},
   "outputs": [
    {
     "data": {
      "text/plain": [
       "array([[ 0.64613047+0.83166042j],\n",
       "       [-0.69431213-0.60379464j],\n",
       "       [-1.66145764-0.74925408j]])"
      ]
     },
     "execution_count": 140,
     "metadata": {},
     "output_type": "execute_result"
    }
   ],
   "source": [
    "ynew[0,1:4,:]"
   ]
  },
  {
   "cell_type": "code",
   "execution_count": 136,
   "metadata": {},
   "outputs": [],
   "source": [
    "delta=ynew-points_reshape"
   ]
  },
  {
   "cell_type": "code",
   "execution_count": 137,
   "metadata": {},
   "outputs": [
    {
     "data": {
      "text/plain": [
       "(64, 512, 4)"
      ]
     },
     "execution_count": 137,
     "metadata": {},
     "output_type": "execute_result"
    }
   ],
   "source": [
    "delta.shape"
   ]
  },
  {
   "cell_type": "code",
   "execution_count": 141,
   "metadata": {},
   "outputs": [
    {
     "data": {
      "text/plain": [
       "array([[-0.0609763 +0.12455365j, -0.0609763 +1.53876719j,\n",
       "         1.35323724+0.12455365j,  1.35323724+1.53876719j],\n",
       "       [-1.4014189 -1.3109014j , -1.4014189 +0.10331213j,\n",
       "         0.01279463-1.3109014j ,  0.01279463+0.10331213j],\n",
       "       [-2.36856441-1.45636085j, -2.36856441-0.04214731j,\n",
       "        -0.95435087-1.45636085j, -0.95435087-0.04214731j]])"
      ]
     },
     "execution_count": 141,
     "metadata": {},
     "output_type": "execute_result"
    }
   ],
   "source": [
    "delta[0, 1:4, :]"
   ]
  },
  {
   "cell_type": "code",
   "execution_count": 142,
   "metadata": {},
   "outputs": [],
   "source": [
    "squared_dist=(delta**2)"
   ]
  },
  {
   "cell_type": "code",
   "execution_count": 143,
   "metadata": {},
   "outputs": [
    {
     "data": {
      "text/plain": [
       "(64, 512, 4)"
      ]
     },
     "execution_count": 143,
     "metadata": {},
     "output_type": "execute_result"
    }
   ],
   "source": [
    "squared_dist.shape"
   ]
  },
  {
   "cell_type": "code",
   "execution_count": 144,
   "metadata": {},
   "outputs": [],
   "source": [
    "exponents = -squared_dist/n0"
   ]
  },
  {
   "cell_type": "code",
   "execution_count": 145,
   "metadata": {},
   "outputs": [
    {
     "data": {
      "text/plain": [
       "(64, 512, 4)"
      ]
     },
     "execution_count": 145,
     "metadata": {},
     "output_type": "execute_result"
    }
   ],
   "source": [
    "exponents.shape"
   ]
  }
 ],
 "metadata": {
  "kernelspec": {
   "display_name": "mycondapy310",
   "language": "python",
   "name": "python3"
  },
  "language_info": {
   "codemirror_mode": {
    "name": "ipython",
    "version": 3
   },
   "file_extension": ".py",
   "mimetype": "text/x-python",
   "name": "python",
   "nbconvert_exporter": "python",
   "pygments_lexer": "ipython3",
   "version": "3.10.13"
  }
 },
 "nbformat": 4,
 "nbformat_minor": 2
}
